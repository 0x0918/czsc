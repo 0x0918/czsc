{
 "cells": [
  {
   "cell_type": "markdown",
   "metadata": {
    "pycharm": {
     "name": "#%% md\n"
    }
   },
   "source": [
    "## 使用 `czsc` 进行选股\n",
    "---\n"
   ]
  },
  {
   "cell_type": "code",
   "execution_count": 1,
   "metadata": {},
   "outputs": [
    {
     "name": "stdout",
     "output_type": "stream",
     "text": [
      "0.5.4\n"
     ]
    }
   ],
   "source": [
    "import sys\n",
    "sys.path.insert(0, \".\")\n",
    "sys.path.insert(0, \"..\")\n",
    "\n",
    "import czsc\n",
    "print(czsc.__version__)\n",
    "\n",
    "from datetime import datetime\n",
    "from typing import List\n",
    "import traceback\n",
    "import pandas as pd\n",
    "import numpy as np\n",
    "from tqdm import tqdm_notebook as tqdm\n",
    "from czsc.analyze import KlineAnalyze"
   ]
  },
  {
   "cell_type": "code",
   "execution_count": 2,
   "metadata": {},
   "outputs": [],
   "source": [
    "# 导入 Tushare 数据（推荐使用）\n",
    "from czsc.data.ts import *\n",
    "\n",
    "# 如果是第一次使用需要设置 token\n",
    "# set_token(\"trushare.pro token\")"
   ]
  },
  {
   "cell_type": "code",
   "execution_count": null,
   "metadata": {
    "pycharm": {
     "name": "#%%\n"
    }
   },
   "outputs": [],
   "source": [
    "# 导入聚宽数据\n",
    "from czsc.data.jq import *\n",
    "\n",
    "# 如果是第一次使用需要设置 token\n",
    "# set_token(\"手机号\", \"密码\")"
   ]
  },
  {
   "cell_type": "markdown",
   "metadata": {
    "pycharm": {
     "name": "#%% md\n"
    }
   },
   "source": [
    "### 缠论日线笔中枢三买选股\n",
    "---\n",
    "\n",
    "条件描述： 最近五笔走势，前三笔构成中枢，第四笔离开中枢，第五笔向下不回中枢\n",
    "\n"
   ]
  },
  {
   "cell_type": "code",
   "execution_count": 3,
   "metadata": {},
   "outputs": [],
   "source": [
    "def selector(symbols: List):\n",
    "    \"\"\"输入股票列表，输入符合买点定义的股票\"\"\"\n",
    "    res = []\n",
    "    for symbol in tqdm(symbols, desc=\"缠论日线笔中枢三买选股\"):\n",
    "        try:\n",
    "            kline = get_kline(symbol=symbol, end_date=datetime.now(), freq=\"D\", count=1000)\n",
    "            ka = KlineAnalyze(kline, ma_params=(5, 34, 120, 233), bi_mode=\"new\")\n",
    "            points = ka.bi_list[-6:]\n",
    "            \n",
    "            if len(points) == 6 and points[-1]['fx_mark'] == \"d\":\n",
    "                zs_g = min([x['bi'] for x in points[:4] if x['fx_mark'] == 'g'])\n",
    "                zs_d = max([x['bi'] for x in points[:4] if x['fx_mark'] == 'd'])\n",
    "                \n",
    "                if points[-1]['bi'] > zs_g > zs_d:\n",
    "                    res.append(symbol)\n",
    "                    \n",
    "        except:\n",
    "            print(\"{} 分析失败\".format(symbol))\n",
    "            traceback.print_exc()\n",
    "    return res"
   ]
  },
  {
   "cell_type": "markdown",
   "metadata": {},
   "source": [
    "### 日线笔中枢选股\n",
    "---\n",
    "\n",
    "中枢如果能当下确认，基本逻辑如下：\n",
    "1. ma 233<close<ma 60 ---得 codes_list1\n",
    "2. codes_list1中选择 符合日线笔中枢形态的，得codes_list2\n",
    "    * 2.1 笔中枢形态：方向下: 日线中枢完成，第四笔底分型\n",
    "3. codes_list2 中中枢第一笔到第四笔得日期跨度 date1\n",
    "4. date1时间跨度中，codes_list2 ma233 cross的个数，并标注 codes_list3"
   ]
  },
  {
   "cell_type": "code",
   "execution_count": 4,
   "metadata": {},
   "outputs": [
    {
     "name": "stdout",
     "output_type": "stream",
     "text": [
      "2\n"
     ]
    }
   ],
   "source": [
    "def cross_number(x1, x2):\n",
    "    \"\"\"输入两个序列，计算 x1 下穿 x2 的次数\"\"\"\n",
    "    x = np.array(x1) < np.array(x2)\n",
    "    num = 0\n",
    "    for i in range(len(x)-1):\n",
    "        b1, b2 = x[i], x[i+1]\n",
    "        if b2 and b1 != b2:\n",
    "            num += 1\n",
    "    return num\n",
    "\n",
    "x1 = [1, 1, 3, 4, 5, 12, 9, 8]\n",
    "x2 = [2, 2, 1, 5, 8, 9, 10, 3]\n",
    "print(cross_number(x1, x2))"
   ]
  },
  {
   "cell_type": "code",
   "execution_count": 5,
   "metadata": {},
   "outputs": [],
   "source": [
    "def selector(symbols: List):\n",
    "    \"\"\"输入股票列表，输入符合买点定义的股票\"\"\"\n",
    "    res = []\n",
    "    for symbol in tqdm(symbols, desc=\"缠论选股\"):\n",
    "        try:\n",
    "            kline = get_kline(symbol=symbol, end_date=datetime.now(), freq=\"D\", count=1000)\n",
    "            ka = KlineAnalyze(kline, ma_params=(5, 34, 60, 250), bi_mode=\"new\")\n",
    "\n",
    "            if ka.ma[-1]['ma60'] >= ka.latest_price >= ka.ma[-1]['ma250']:\n",
    "                # print(\"{} 满足条件1：ma60 > close > ma233\".format(symbol))\n",
    "                points = ka.bi_list[-7:]\n",
    "                \n",
    "                if len(points) == 7 and points[-1]['fx_mark'] == 'd':\n",
    "                    zs_g = min([x['bi'] for x in points[2:6] if x['fx_mark'] == 'g'])\n",
    "                    zs_d = max([x['bi'] for x in points[2:6] if x['fx_mark'] == 'd'])\n",
    "                    \n",
    "                    if zs_g > zs_d:\n",
    "                        # print(\"{} 满足条件2：向下中枢完成\".format(symbol))\n",
    "                        date_span = [points[-5]['dt'], points[-1]['dt']]\n",
    "                        low = [x['low'] for x in ka.kline_raw if date_span[1] >= x['dt'] >= date_span[0]]\n",
    "                        ma_ = [x['ma250'] for x in ka.ma if date_span[1] >= x['dt'] >= date_span[0]]\n",
    "                        num = cross_number(low, ma_)\n",
    "                        res.append({\"symbol\": symbol, \"cross_num\": num})\n",
    "        except:\n",
    "            print(\"{} 分析失败\".format(symbol))\n",
    "            traceback.print_exc()\n",
    "    return res"
   ]
  },
  {
   "cell_type": "markdown",
   "metadata": {},
   "source": [
    "## 执行选股\n",
    "---"
   ]
  },
  {
   "cell_type": "code",
   "execution_count": 6,
   "metadata": {
    "scrolled": true
   },
   "outputs": [
    {
     "data": {
      "application/vnd.jupyter.widget-view+json": {
       "model_id": "51fcbc905a954c51b8ce864d8897821e",
       "version_major": 2,
       "version_minor": 0
      },
      "text/plain": [
       "HBox(children=(IntProgress(value=0, description='缠论选股', max=795, style=ProgressStyle(description_width='initia…"
      ]
     },
     "metadata": {},
     "output_type": "display_data"
    },
    {
     "name": "stderr",
     "output_type": "stream",
     "text": [
      "..\\czsc\\data\\ts.py:175: SettingWithCopyWarning: \n",
      "A value is trying to be set on a copy of a slice from a DataFrame.\n",
      "Try using .loc[row_indexer,col_indexer] = value instead\n",
      "\n",
      "See the caveats in the documentation: https://pandas.pydata.org/pandas-docs/stable/user_guide/indexing.html#returning-a-view-versus-a-copy\n",
      "  k[col] = k[col].apply(round, args=(2,))\n"
     ]
    },
    {
     "name": "stdout",
     "output_type": "stream",
     "text": [
      "300793.SZ-E 分析失败\n"
     ]
    },
    {
     "name": "stderr",
     "output_type": "stream",
     "text": [
      "Traceback (most recent call last):\n",
      "  File \"<ipython-input-5-14c245f5b689>\", line 7, in selector\n",
      "    ka = KlineAnalyze(kline, ma_params=(5, 34, 60, 250), bi_mode=\"new\")\n",
      "  File \"..\\czsc\\analyze.py\", line 327, in __init__\n",
      "    self._update_xd_list()\n",
      "  File \"..\\czsc\\analyze.py\", line 633, in _update_xd_list\n",
      "    self._xd_after_process()\n",
      "  File \"..\\czsc\\analyze.py\", line 627, in _xd_after_process\n",
      "    if (self.xd_list[-1]['fx_mark'] == 'd' and self.bi_list[-1]['bi'] < self.xd_list[-1]['xd']) \\\n",
      "IndexError: list index out of range\n"
     ]
    },
    {
     "name": "stdout",
     "output_type": "stream",
     "text": [
      "\n",
      "选股结果： [{'symbol': '300246.SZ-E', 'cross_num': 0}, {'symbol': '300206.SZ-E', 'cross_num': 0}, {'symbol': '300122.SZ-E', 'cross_num': 0}, {'symbol': '300573.SZ-E', 'cross_num': 0}, {'symbol': '300530.SZ-E', 'cross_num': 0}, {'symbol': '300529.SZ-E', 'cross_num': 0}, {'symbol': '300496.SZ-E', 'cross_num': 0}, {'symbol': '300489.SZ-E', 'cross_num': 0}, {'symbol': '300750.SZ-E', 'cross_num': 0}, {'symbol': '300699.SZ-E', 'cross_num': 0}, {'symbol': '300677.SZ-E', 'cross_num': 0}, {'symbol': '300661.SZ-E', 'cross_num': 0}, {'symbol': '300635.SZ-E', 'cross_num': 0}, {'symbol': '300624.SZ-E', 'cross_num': 0}, {'symbol': '300618.SZ-E', 'cross_num': 0}, {'symbol': '300601.SZ-E', 'cross_num': 0}, {'symbol': '300595.SZ-E', 'cross_num': 0}, {'symbol': '300454.SZ-E', 'cross_num': 0}, {'symbol': '300014.SZ-E', 'cross_num': 0}]\n"
     ]
    }
   ],
   "source": [
    "# 使用 tushare 数据在创业板综指上选股\n",
    "symbols = get_index_stocks(\"399102.SZ\")\n",
    "selected = selector(symbols)\n",
    "\n",
    "print(\"选股结果：\", selected)\n",
    "# df = pd.DataFrame(selected)\n",
    "# df.to_excel(\"选股结果.xlsx\", index=False)"
   ]
  },
  {
   "cell_type": "code",
   "execution_count": null,
   "metadata": {},
   "outputs": [],
   "source": [
    "# 使用聚宽数据在创业板综指上选股\n",
    "symbols = get_index_stocks(\"399102.XSHE\")\n",
    "selected = selector(symbols)\n",
    "\n",
    "print(\"选股结果：\", selected)\n",
    "# df = pd.DataFrame(selected)\n",
    "# df.to_excel(\"选股结果.xlsx\", index=False)"
   ]
  },
  {
   "cell_type": "code",
   "execution_count": null,
   "metadata": {},
   "outputs": [],
   "source": []
  },
  {
   "cell_type": "code",
   "execution_count": null,
   "metadata": {},
   "outputs": [],
   "source": []
  }
 ],
 "metadata": {
  "kernelspec": {
   "display_name": "Python 3",
   "language": "python",
   "name": "python3"
  },
  "language_info": {
   "codemirror_mode": {
    "name": "ipython",
    "version": 3
   },
   "file_extension": ".py",
   "mimetype": "text/x-python",
   "name": "python",
   "nbconvert_exporter": "python",
   "pygments_lexer": "ipython3",
   "version": "3.7.3"
  }
 },
 "nbformat": 4,
 "nbformat_minor": 1
}
