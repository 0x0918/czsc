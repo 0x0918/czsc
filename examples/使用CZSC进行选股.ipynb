{
 "cells": [
  {
   "cell_type": "markdown",
   "metadata": {
    "pycharm": {
     "name": "#%% md\n"
    }
   },
   "source": [
    "## 使用 `czsc` 进行选股\n",
    "---\n"
   ]
  },
  {
   "cell_type": "code",
   "execution_count": 1,
   "metadata": {},
   "outputs": [
    {
     "name": "stdout",
     "output_type": "stream",
     "text": [
      "0.5.4\n"
     ]
    }
   ],
   "source": [
    "import sys\n",
    "sys.path.insert(0, \".\")\n",
    "sys.path.insert(0, \"..\")\n",
    "\n",
    "import czsc\n",
    "print(czsc.__version__)"
   ]
  },
  {
   "cell_type": "code",
   "execution_count": 2,
   "metadata": {},
   "outputs": [],
   "source": [
    "from datetime import datetime\n",
    "from typing import List\n",
    "import traceback\n",
    "from tqdm import tqdm_notebook as tqdm\n",
    "from czsc.analyze import KlineAnalyze"
   ]
  },
  {
   "cell_type": "code",
   "execution_count": 3,
   "metadata": {
    "pycharm": {
     "name": "#%%\n"
    }
   },
   "outputs": [],
   "source": [
    "# 导入聚宽数据\n",
    "from czsc.data.jq import *\n",
    "\n",
    "# 如果是第一次使用需要设置 token\n",
    "# set_token(\"手机号\", \"密码\")\n"
   ]
  },
  {
   "cell_type": "markdown",
   "metadata": {
    "pycharm": {
     "name": "#%% md\n"
    }
   },
   "source": [
    "### 缠论日线笔中枢三买选股\n",
    "---\n",
    "\n",
    "条件描述： 最近五笔走势，前三笔构成中枢，第四笔离开中枢，第五笔向下不回中枢\n",
    "\n"
   ]
  },
  {
   "cell_type": "code",
   "execution_count": 4,
   "metadata": {},
   "outputs": [],
   "source": [
    "def selector(symbols: List):\n",
    "    \"\"\"输入股票列表，输入符合买点定义的股票\"\"\"\n",
    "    res = []\n",
    "    for symbol in tqdm(symbols, desc=\"缠论日线笔中枢三买选股\"):\n",
    "        try:\n",
    "            kline = get_kline(symbol=symbol, end_date=datetime.now(), freq=\"D\", count=1000)\n",
    "            ka = KlineAnalyze(kline, ma_params=(5, 34, 120, 233))\n",
    "            points = ka.bi_list[-6:]\n",
    "            \n",
    "            if len(points) == 6 and points[-1]['fx_mark'] == \"d\":\n",
    "                zs_g = min([x['bi'] for x in points[:4] if x['fx_mark'] == 'g'])\n",
    "                zs_d = max([x['bi'] for x in points[:4] if x['fx_mark'] == 'd'])\n",
    "                \n",
    "                if points[-1]['bi'] > zs_g > zs_d:\n",
    "                    res.append(symbol)\n",
    "                    \n",
    "        except:\n",
    "            traceback.print_exc()\n",
    "    return res"
   ]
  },
  {
   "cell_type": "code",
   "execution_count": 5,
   "metadata": {},
   "outputs": [
    {
     "data": {
      "application/vnd.jupyter.widget-view+json": {
       "model_id": "d71a2b3782724541b22584e646998e4f",
       "version_major": 2,
       "version_minor": 0
      },
      "text/plain": [
       "HBox(children=(IntProgress(value=0, description='缠论日线笔中枢三买选股', style=ProgressStyle(description_width='initial'…"
      ]
     },
     "metadata": {},
     "output_type": "display_data"
    },
    {
     "name": "stdout",
     "output_type": "stream",
     "text": [
      "\n",
      "选股结果： ['300133.XSHE']\n"
     ]
    }
   ],
   "source": [
    "# 在创业板中选股\n",
    "symbols = get_index_stocks(\"399006.XSHE\")\n",
    "selected = selector(symbols)\n",
    "\n",
    "print(\"选股结果：\", selected)"
   ]
  },
  {
   "cell_type": "code",
   "execution_count": null,
   "metadata": {},
   "outputs": [],
   "source": []
  }
 ],
 "metadata": {
  "kernelspec": {
   "display_name": "Python 3",
   "language": "python",
   "name": "python3"
  },
  "language_info": {
   "codemirror_mode": {
    "name": "ipython",
    "version": 3
   },
   "file_extension": ".py",
   "mimetype": "text/x-python",
   "name": "python",
   "nbconvert_exporter": "python",
   "pygments_lexer": "ipython3",
   "version": "3.7.3"
  }
 },
 "nbformat": 4,
 "nbformat_minor": 1
}
